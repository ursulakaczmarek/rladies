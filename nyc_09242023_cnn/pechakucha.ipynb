{
  "cells": [
    {
      "cell_type": "raw",
      "metadata": {},
      "source": [
        "---\n",
        "title: \"intro to image classification with convolutional neural networks\"\n",
        "title-slide-attributes:\n",
        "  data-background-image: images/filecode.png\n",
        "subtitle: \"r-ladies nyc lightning talk\"\n",
        "author: \"ursula kaczmarek, democracy.works\"\n",
        "execute:\n",
        "  echo: false\n",
        "  eval: true\n",
        "format:\n",
        "  revealjs: \n",
        "    auto-slide: 20000\n",
        "    auto-slide-stoppable: false\n",
        "    logo: images/rladies_hex.png\n",
        "    include-in-header:\n",
        "      text: |\n",
        "        <style>\n",
        "        #title-slide .title {\n",
        "          color: #72e3dc;\n",
        "          font-size: 1.6em\n",
        "        }\n",
        "        p{\n",
        "          color: #f44336;\n",
        "        }\n",
        "        .quarto-title-author-name {\n",
        "        color: #f44336;\n",
        "        }\n",
        "        </style>\n",
        "---"
      ],
      "id": "ffdc0a15"
    },
    {
      "cell_type": "markdown",
      "metadata": {},
      "source": [
        "------------------------------------------------------------------------\n",
        "\n",
        "![](images/cv.gif)\n",
        "\n",
        "------------------------------------------------------------------------\n",
        "\n",
        "![](images/smokey.gif)\n",
        "\n",
        "------------------------------------------------------------------------\n",
        "\n",
        "![](images/bug.png)\n",
        "\n",
        "------------------------------------------------------------------------\n",
        "\n",
        "![](images/steps.jpg){fig-align=\"center\" width=\"685\" height=\"716\"}\n",
        "\n",
        "------------------------------------------------------------------------\n",
        "\n",
        "::: {.column-page layout-ncol=\"2\"}"
      ],
      "id": "11460926"
    },
    {
      "cell_type": "code",
      "metadata": {},
      "source": [
        "from numpy.linalg import norm\n",
        "import matplotlib.pyplot as plt\n",
        "\n",
        "def plot(im, interp=False):\n",
        "    f = plt.figure(frameon=True)\n",
        "    plt.imshow(im)\n",
        "\n",
        "def plots(ims, interp=False, titles=None):\n",
        "    ims=np.array(ims)\n",
        "    mn,mx=ims.min(),ims.max()\n",
        "    f = plt.figure(figsize=(6,18))\n",
        "    for i in range(len(ims)):\n",
        "        sp=f.add_subplot(1, len(ims), i+1)\n",
        "        if not titles is None: sp.set_title(titles[i], fontsize=10)\n",
        "        plt.imshow(ims[i], interpolation=None if interp else 'none', vmin=mn,vmax=mx)\n",
        "\n",
        "plt.gray()\n",
        "plt.close()"
      ],
      "id": "620089ae",
      "execution_count": null,
      "outputs": []
    },
    {
      "cell_type": "markdown",
      "metadata": {},
      "source": [
        "![](images/lens.png){fig-align=\"center\" width=\"400\" height=\"400\"}\n"
      ],
      "id": "4e1a8a08"
    },
    {
      "cell_type": "code",
      "metadata": {},
      "source": [
        "import numpy as np\n",
        "top = [[-1,-1,-1],\n",
        "     [ 1, 1, 1],\n",
        "     [ 0, 0, 0]]\n",
        "     \n",
        "br = [[ 0, 0, 1],\n",
        "    [ 0, 1,-1.5],\n",
        "    [ 1,-1.5, 0]]\n",
        "\n",
        "straights = [np.rot90(top,i) for i in range(4)]\n",
        "diags = [np.rot90(br, i) for i in range(4)]\n",
        "\n",
        "plots(straights)\n",
        "plots(diags)"
      ],
      "id": "a0e17db0",
      "execution_count": null,
      "outputs": []
    },
    {
      "cell_type": "markdown",
      "metadata": {},
      "source": [
        ":::\n",
        "\n",
        "------------------------------------------------------------------------\n",
        "\n",
        "![](images/layers.gif)\n",
        "\n",
        "::: footer\n",
        "https://poloclub.github.io/cnn-explainer/\n",
        ":::\n",
        "\n",
        "------------------------------------------------------------------------\n",
        "\n",
        "![](images/relu.png)\n",
        "\n",
        "------------------------------------------------------------------------\n",
        "\n",
        "![](images/pooled.png)\n",
        "\n",
        "------------------------------------------------------------------------\n",
        "\n",
        "![](images/full.jpg){fig-align=\"center\"}"
      ],
      "id": "64625993"
    }
  ],
  "metadata": {
    "kernelspec": {
      "display_name": "Python 3",
      "language": "python",
      "name": "python3"
    }
  },
  "nbformat": 4,
  "nbformat_minor": 5
}